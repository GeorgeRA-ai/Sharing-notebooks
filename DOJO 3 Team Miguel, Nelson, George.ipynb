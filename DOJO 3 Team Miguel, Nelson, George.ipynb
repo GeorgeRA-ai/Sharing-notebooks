{
 "cells": [
  {
   "cell_type": "code",
   "execution_count": 9,
   "metadata": {},
   "outputs": [
    {
     "name": "stdout",
     "output_type": "stream",
     "text": [
      "1\n",
      "3\n",
      "5\n",
      "7\n",
      "9\n",
      "11\n",
      "13\n",
      "15\n",
      "17\n",
      "19\n",
      "21\n",
      "23\n",
      "25\n"
     ]
    }
   ],
   "source": [
    "def printodd(bottom, top):\n",
    "\n",
    "    for i in range(bottom, top): \n",
    "      if i%2 == 0: \n",
    "        continue\n",
    "\n",
    "      else:\n",
    "        print(i)\n",
    "\n",
    "\n",
    "printodd(1,26)"
   ]
  },
  {
   "cell_type": "code",
   "execution_count": 17,
   "metadata": {},
   "outputs": [
    {
     "name": "stdout",
     "output_type": "stream",
     "text": [
      "1\n",
      "2\n",
      "3\n",
      "4\n",
      "5\n",
      "6\n",
      "7\n",
      "8\n",
      "9\n",
      "10\n",
      "11\n",
      "12\n",
      "13\n",
      "14\n",
      "15\n",
      "16\n",
      "17\n",
      "18\n",
      "19\n",
      "20\n",
      "21\n",
      "22\n",
      "23\n",
      "24\n",
      "25\n"
     ]
    }
   ],
   "source": [
    "#experiment for 1.\n",
    "def printodd(bottom, top):\n",
    "\n",
    "    for i in range(bottom, top): \n",
    "      if i/2 is not int: \n",
    "        print(i)\n",
    "\n",
    "      else:\n",
    "        print(\" \")\n",
    "\n",
    "\n",
    "printodd(1,26)"
   ]
  },
  {
   "cell_type": "markdown",
   "metadata": {},
   "source": [
    "2.\tWe own a supermarket and we want to calculate the SUM and AVERAGE of sales made daily and we want to create a function that loops through a list to give us that. Create a function that takes either “SUM“ or “AVERAGE” as a parameter and gives us the expected result.\n",
    "Use list [65700, 452700, 646800, 302210, 254000, 4650, 68400, 46804, 89556]\n",
    "Note: we need to input the result we want.\n"
   ]
  },
  {
   "cell_type": "code",
   "execution_count": 29,
   "metadata": {},
   "outputs": [
    {
     "name": "stdout",
     "output_type": "stream",
     "text": [
      "Which operation do you want? SUM or AVERAGE?AVERAGE\n",
      "214535.55555555556\n"
     ]
    }
   ],
   "source": [
    "def supermarket():\n",
    "    listnumbers = (65700, 452700, 646800, 302210, 254000, 4650, 68400, 46804, 89556)\n",
    "    sumnum = 0\n",
    "    count = 0\n",
    "\n",
    "    answer = input(\"Which operation do you want? SUM or AVERAGE?\")\n",
    "    if answer == \"SUM\":\n",
    "        for i in listnumbers: \n",
    "                sumnum += i\n",
    "        print(sumnum)\n",
    "                \n",
    "    if answer == \"AVERAGE\":\n",
    "        for i in listnumbers:\n",
    "                sumnum += i \n",
    "                count += 1\n",
    "        print(sumnum/count)\n",
    "        \n",
    "supermarket()\n",
    "                \n"
   ]
  },
  {
   "cell_type": "code",
   "execution_count": null,
   "metadata": {},
   "outputs": [],
   "source": [
    "#SOLUTION B FOR Q2\n",
    "def supermarket(listn):\n",
    "    sumnum = 0\n",
    "    average=0\n",
    "    answer = input(\"Which operation do you want? SUM or AVERAGE?\")\n",
    "    for i in listn:\n",
    "      sumnum+=i\n",
    "    average=sumnum/len(listn)\n",
    "    if answer== \"SUM\":\n",
    "      return sumnum\n",
    "    elif answer== \"AVERAGE\":\n",
    "      return average\n",
    "listnumbers = (65700, 452700, 646800, 302210, 254000, 4650, 68400, 46804, 89556)\n",
    "supermarket(listnumbers)\n"
   ]
  },
  {
   "cell_type": "markdown",
   "metadata": {},
   "source": [
    "3.\tWe are going to create a WCS Bank and we want an application for our ATM.\n",
    "With this application, students can make an overdraft withdrawal of up to 400 Euros. \n",
    "Our smart ATM requires you to enter your name and pin code and the transaction can only start if your input matches the information we have. You have only 3 attempts to enter the right details.\n",
    "If the info given is correct, you’ll be asked to enter the amount you want to withdraw. The ATM should be able to tell you how much you can withdraw(including the overdraft), if the amount entered is beyond the allowed.\n",
    "Statement: you have successfully withdrawn eg. 520 euros, your remaining balance is 50,000\n",
    "\n",
    "...\n",
    "if xyz Print(\"You have successfully withdrawn xyz euros. Your remaining balance is xxyz.\"\n",
    "\n",
    "here, we need to apply integers and strings.\n",
    "\n"
   ]
  },
  {
   "cell_type": "code",
   "execution_count": null,
   "metadata": {},
   "outputs": [],
   "source": [
    "def wcsBank():\n",
    "  check=False\n",
    "  count=0\n",
    "  #check name and code\n",
    "  while check!=True:\n",
    "    name=\"GEORGE\"\n",
    "    pincode='1111'\n",
    "    nametry=input(\"Your name: \")\n",
    "    pincodetry=input(\"Code: \")\n",
    "    if nametry==name and pincodetry==pincode:\n",
    "      print(\"Valid\")\n",
    "      check=True\n",
    "    else:\n",
    "      print(\"Invalid\")\n",
    "      count+=1\n",
    "      if count==3:\n",
    "        break\n",
    "  #withdraw\n",
    "  withdraw=int(input(\"How much you want?\"))\n",
    "  balance=10000\n",
    "  over =balance+400\n",
    "  if over<withdraw:\n",
    "    print(\"You are not able to withdraw\")\n",
    "  else:\n",
    "    balance-=withdraw\n",
    "    print(\"You have successfully withdrawn \"+ str(withdraw)+ \"euros, your remainingbalance is \"+str(balance))\n",
    "wcsBank()"
   ]
  },
  {
   "cell_type": "markdown",
   "metadata": {},
   "source": [
    "4.\tCreate a number guess game. The application should produce a random number within a range of 30 when run. The game should ask you to input a number and give you hints after your first attempt and a new hint each successive attempt.\n",
    "Eg. You are within range, the number is less than or greater than, it’s an odd or even number.\n",
    "You will have only 5 attempts to guess the number. \n"
   ]
  },
  {
   "cell_type": "code",
   "execution_count": null,
   "metadata": {},
   "outputs": [],
   "source": [
    "import random\n",
    "def game():\n",
    "  rNumber=random.randint(0,30)\n",
    "  typenumber=\"\"\n",
    "  if rNumber%2==0:\n",
    "    typenumber=\"even\"\n",
    "  else:\n",
    "    typenumber=\"odd\"\n",
    "  count,check=0,0\n",
    "  while check!=1 and count!=5:\n",
    "    trynumber=input(\"Try a number between 0 and 30:\")\n",
    "    if int(trynumber)==rNumber:\n",
    "      print(\"Amazing!!\")\n",
    "      check=1\n",
    "    else:\n",
    "      if int(trynumber)<rNumber:\n",
    "        print(\"Guess higher and a \"+typenumber+\" number\")\n",
    "      elif int(trynumber)>rNumber:\n",
    "        print(\"I would bet it's lower and a \"+typenumber+\" number\")\n",
    "      count+=1\n",
    "  if count==5:\n",
    "    print(\"You have run out of guesses\")\n",
    "game()"
   ]
  },
  {
   "cell_type": "markdown",
   "metadata": {},
   "source": [
    "\n",
    "5.\tUse your imagination and create an application using knowledge acquired over the few weeks\n"
   ]
  },
  {
   "cell_type": "code",
   "execution_count": null,
   "metadata": {},
   "outputs": [],
   "source": []
  }
 ],
 "metadata": {
  "kernelspec": {
   "display_name": "Python 3",
   "language": "python",
   "name": "python3"
  },
  "language_info": {
   "codemirror_mode": {
    "name": "ipython",
    "version": 3
   },
   "file_extension": ".py",
   "mimetype": "text/x-python",
   "name": "python",
   "nbconvert_exporter": "python",
   "pygments_lexer": "ipython3",
   "version": "3.7.4"
  }
 },
 "nbformat": 4,
 "nbformat_minor": 2
}
